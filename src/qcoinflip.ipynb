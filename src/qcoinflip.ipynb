{
  "cells": [
    {
      "cell_type": "markdown",
      "source": [
        "# Step 0:\n",
        "Import all necessary libraries and install qiskit"
      ],
      "metadata": {
        "id": "IYRgGNh1BCH6"
      }
    },
    {
      "cell_type": "code",
      "source": [
        "%matplotlib inline\n",
        "!pip install qiskit ipywidgets qiskit-ibmq-provider qiskit-aer -q\n",
        "# Import necessary libraries\n",
        "import matplotlib.pyplot as plt\n",
        "from qiskit import QuantumCircuit, Aer, transpile, assemble, execute\n",
        "from qiskit.visualization import plot_histogram, plot_bloch_multivector"
      ],
      "metadata": {
        "id": "mT7ABSTOBBFP"
      },
      "execution_count": 47,
      "outputs": []
    },
    {
      "cell_type": "markdown",
      "source": [
        "# Step 1:\n",
        "Define quantum circuit and what is needed and place the qubit into superposition with H-gate"
      ],
      "metadata": {
        "id": "ttUhoP9dBHLB"
      }
    },
    {
      "cell_type": "code",
      "source": [
        "# Step 1: Qubit Superposition\n",
        "qc = QuantumCircuit(X, X)\n",
        "# How to put this qubit into superposition?\n"
      ],
      "metadata": {
        "collapsed": true,
        "id": "xiDhf83eBLdX",
        "outputId": "da39a12d-06ff-46c3-9b53-63da2eeb4495",
        "colab": {
          "base_uri": "https://localhost:8080/",
          "height": 214
        }
      },
      "execution_count": 48,
      "outputs": [
        {
          "output_type": "error",
          "ename": "NameError",
          "evalue": "ignored",
          "traceback": [
            "\u001b[0;31m---------------------------------------------------------------------------\u001b[0m",
            "\u001b[0;31mNameError\u001b[0m                                 Traceback (most recent call last)",
            "\u001b[0;32m<ipython-input-48-26db852e0e9a>\u001b[0m in \u001b[0;36m<cell line: 2>\u001b[0;34m()\u001b[0m\n\u001b[1;32m      1\u001b[0m \u001b[0;31m# Step 1: Qubit Superposition\u001b[0m\u001b[0;34m\u001b[0m\u001b[0;34m\u001b[0m\u001b[0m\n\u001b[0;32m----> 2\u001b[0;31m \u001b[0mqc\u001b[0m \u001b[0;34m=\u001b[0m \u001b[0mQuantumCircuit\u001b[0m\u001b[0;34m(\u001b[0m\u001b[0mX\u001b[0m\u001b[0;34m,\u001b[0m \u001b[0mX\u001b[0m\u001b[0;34m)\u001b[0m\u001b[0;34m\u001b[0m\u001b[0;34m\u001b[0m\u001b[0m\n\u001b[0m\u001b[1;32m      3\u001b[0m \u001b[0;31m# How to put this qubit into superposition?\u001b[0m\u001b[0;34m\u001b[0m\u001b[0;34m\u001b[0m\u001b[0m\n",
            "\u001b[0;31mNameError\u001b[0m: name 'X' is not defined"
          ]
        }
      ]
    },
    {
      "cell_type": "markdown",
      "source": [
        "# Step 2:\n",
        "Let's make the qubits entangled and start teleporting!"
      ],
      "metadata": {
        "id": "euhyM428BrRb"
      }
    },
    {
      "cell_type": "code",
      "source": [
        "# Prepare the qubit to be teleported by connecting the qubits by a Cnot gate"
      ],
      "metadata": {
        "id": "W8lUswveBwRS"
      },
      "execution_count": null,
      "outputs": []
    },
    {
      "cell_type": "markdown",
      "source": [
        "# Step 3:\n",
        "Visualize informatiaon"
      ],
      "metadata": {
        "id": "wo1_tTxSCLa5"
      }
    },
    {
      "cell_type": "code",
      "source": [
        "def display_results(circuit, title=\"Quantum Circuit\"):\n",
        "    backend = Aer.get_backend('statevector_simulator')\n",
        "    statevector = execute(circuit, backend).result().get_statevector()\n",
        "\n",
        "    print(title)\n",
        "    print(\"State Vector: \", statevector)\n",
        "\n",
        "    # Display the Bloch vector representation\n",
        "    plot_bloch_multivector(statevector)\n",
        "\n",
        "    # Display measurement results\n",
        "    backend = Aer.get_backend('qasm_simulator')\n",
        "    counts = execute(circuit, backend, shots=1024).result().get_counts()\n",
        "\n",
        "    print(\"Measurement Results: \", counts)\n",
        "    plot_histogram(counts)"
      ],
      "metadata": {
        "id": "jLLpfI12CQWk"
      },
      "execution_count": null,
      "outputs": []
    },
    {
      "cell_type": "code",
      "source": [
        "# Display results for quantum teleportation\n",
        "display_results(qc, title=\"Quantum Teleportation\")"
      ],
      "metadata": {
        "id": "52UsrLKmCOWp"
      },
      "execution_count": null,
      "outputs": []
    },
    {
      "cell_type": "code",
      "execution_count": null,
      "metadata": {
        "id": "wX-sIDxnABHB"
      },
      "outputs": [],
      "source": []
    }
  ],
  "metadata": {
    "language_info": {
      "name": "python"
    },
    "colab": {
      "provenance": []
    },
    "kernelspec": {
      "name": "python3",
      "display_name": "Python 3"
    }
  },
  "nbformat": 4,
  "nbformat_minor": 0
}